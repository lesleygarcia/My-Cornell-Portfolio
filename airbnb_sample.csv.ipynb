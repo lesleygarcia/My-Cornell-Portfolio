{
 "cells": [
  {
   "cell_type": "code",
   "execution_count": null,
   "id": "d796f667-fe08-4972-8a17-a878d5ec7e05",
   "metadata": {},
   "outputs": [],
   "source": [
    "import pandas as pd\n",
    "\n",
    "# Load your full Airbnb dataset\n",
    "df = pd.read_csv('airbnbListingsData.csv')\n",
    "\n",
    "# Create a smaller sample with 500 rows\n",
    "df_sample = df.sample(500, random_state=42)\n",
    "\n",
    "# Save the sample dataset to a CSV file\n",
    "df_sample.to_csv('airbnb_sample.csv', index=False)"
   ]
  }
 ],
 "metadata": {
  "kernelspec": {
   "display_name": "Python 3 (ipykernel)",
   "language": "python",
   "name": "python3"
  },
  "language_info": {
   "codemirror_mode": {
    "name": "ipython",
    "version": 3
   },
   "file_extension": ".py",
   "mimetype": "text/x-python",
   "name": "python",
   "nbconvert_exporter": "python",
   "pygments_lexer": "ipython3",
   "version": "3.9.19"
  }
 },
 "nbformat": 4,
 "nbformat_minor": 5
}
